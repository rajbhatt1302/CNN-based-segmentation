{
  "nbformat": 4,
  "nbformat_minor": 0,
  "metadata": {
    "colab": {
      "provenance": []
    },
    "kernelspec": {
      "name": "python3",
      "display_name": "Python 3"
    },
    "language_info": {
      "name": "python"
    }
  },
  "cells": [
    {
      "cell_type": "code",
      "execution_count": null,
      "metadata": {
        "id": "Y9-5CY6WKgUU"
      },
      "outputs": [],
      "source": [
        "import numpy as np\n",
        "import pandas as pd\n",
        "\n",
        "import shutil\n",
        "from tqdm import tqdm\n",
        "import cv2\n",
        "import os\n",
        "import json\n",
        "\n",
        "import matplotlib.pyplot as plt\n",
        "import seaborn as sns"
      ]
    },
    {
      "cell_type": "code",
      "source": [
        "from google.colab import drive\n",
        "drive.mount('/content/drive')"
      ],
      "metadata": {
        "colab": {
          "base_uri": "https://localhost:8080/"
        },
        "id": "aMSQm6FcALF-",
        "outputId": "2c6bafdd-72e6-4cc1-866e-94dcda8e6249"
      },
      "execution_count": null,
      "outputs": [
        {
          "output_type": "stream",
          "name": "stdout",
          "text": [
            "Mounted at /content/drive\n"
          ]
        }
      ]
    },
    {
      "cell_type": "code",
      "source": [
        "Path = \"/content/drive/MyDrive/Colab Notebooks/Garbage Detection/Images/Anika Singh/garbage detection\""
      ],
      "metadata": {
        "id": "zmmKTB6RC3AQ"
      },
      "execution_count": null,
      "outputs": []
    },
    {
      "cell_type": "code",
      "source": [
        "os.listdir(Path)[0]"
      ],
      "metadata": {
        "colab": {
          "base_uri": "https://localhost:8080/",
          "height": 35
        },
        "id": "v67DmRSfAvMs",
        "outputId": "203a6523-5706-4dc0-d703-ab710af603e1"
      },
      "execution_count": null,
      "outputs": [
        {
          "output_type": "execute_result",
          "data": {
            "text/plain": [
              "'project-3-at-2023-03-25-14-41-5f415a06.zip'"
            ],
            "application/vnd.google.colaboratory.intrinsic+json": {
              "type": "string"
            }
          },
          "metadata": {},
          "execution_count": 6
        }
      ]
    },
    {
      "cell_type": "code",
      "source": [
        "! mkdir Rough"
      ],
      "metadata": {
        "id": "MAExJwWHB8Rt"
      },
      "execution_count": null,
      "outputs": []
    },
    {
      "cell_type": "code",
      "source": [
        "from zipfile import ZipFile\n",
        "\n",
        "# loading the temp.zip and creating a zip object\n",
        "with ZipFile(Path + os.listdir(Path)[0] , 'r') as zObject:\n",
        "\n",
        "    # Extracting all the members of the zip\n",
        "    # into a specific location.\n",
        "    zObject.extractall(\n",
        "        path=\"/content/Rough/\")"
      ],
      "metadata": {
        "id": "og2G726GAz9W"
      },
      "execution_count": null,
      "outputs": []
    },
    {
      "cell_type": "code",
      "source": [
        "Image_Path = \"/content/drive/MyDrive/Colab Notebooks/Garbage Detection/Images/Garbage images/\"\n",
        "Mask_Path = \"/content/drive/MyDrive/Colab Notebooks/Garbage Detection/Image Masks/By supriya/\""
      ],
      "metadata": {
        "id": "8Ckh2MJkAMJz"
      },
      "execution_count": null,
      "outputs": []
    },
    {
      "cell_type": "code",
      "source": [
        "Target_Img_Dir = \"/content/drive/MyDrive/Colab Notebooks/Garbage Detection/Data/Images/\"\n",
        "Target_mask_Dir = \"/content/drive/MyDrive/Colab Notebooks/Garbage Detection/Data/Masks/\""
      ],
      "metadata": {
        "id": "A6Bb4PsuA3EL"
      },
      "execution_count": null,
      "outputs": []
    },
    {
      "cell_type": "code",
      "source": [
        "os.listdir(Image_Path)[0]"
      ],
      "metadata": {
        "colab": {
          "base_uri": "https://localhost:8080/",
          "height": 35
        },
        "id": "1SYDWQNGCyW4",
        "outputId": "10b7346a-b5db-4554-fcb2-37200c185b8c"
      },
      "execution_count": null,
      "outputs": [
        {
          "output_type": "execute_result",
          "data": {
            "text/plain": [
              "'DJI_0081.JPG'"
            ],
            "application/vnd.google.colaboratory.intrinsic+json": {
              "type": "string"
            }
          },
          "metadata": {},
          "execution_count": 30
        }
      ]
    },
    {
      "cell_type": "code",
      "source": [
        "os.listdir(Mask_Path)[0]"
      ],
      "metadata": {
        "colab": {
          "base_uri": "https://localhost:8080/",
          "height": 35
        },
        "id": "x1HNm0gBDTcs",
        "outputId": "87b4316c-7ca6-4b5e-ead3-a2c73c5bdde7"
      },
      "execution_count": null,
      "outputs": [
        {
          "output_type": "execute_result",
          "data": {
            "text/plain": [
              "'DJI_0072_Mask.JPG'"
            ],
            "application/vnd.google.colaboratory.intrinsic+json": {
              "type": "string"
            }
          },
          "metadata": {},
          "execution_count": 31
        }
      ]
    },
    {
      "cell_type": "code",
      "source": [
        "#Renaming files\n",
        "i = 0\n",
        "path = Image_Path\n",
        "for filename in os.listdir(path):\n",
        "  my_dest =path  + filename.split('-')[1]\n",
        "  my_source =path + filename\n",
        "  # my_dest =path + my_dest\n",
        "  # rename() function will\n",
        "  # rename all the files\n",
        "  os.rename(my_source, my_dest)\n",
        "  i += 1"
      ],
      "metadata": {
        "id": "El8ljYY4ExRz"
      },
      "execution_count": null,
      "outputs": []
    },
    {
      "cell_type": "code",
      "source": [
        "Target_mask_Dir + 'S'+ str(1)"
      ],
      "metadata": {
        "colab": {
          "base_uri": "https://localhost:8080/",
          "height": 35
        },
        "id": "zS3thjP-HZY6",
        "outputId": "116b3f49-e6bb-4871-ae89-b5c2727b8e99"
      },
      "execution_count": null,
      "outputs": [
        {
          "output_type": "execute_result",
          "data": {
            "text/plain": [
              "'/content/drive/MyDrive/Colab Notebooks/Garbage Detection/Data/Masks/S1'"
            ],
            "application/vnd.google.colaboratory.intrinsic+json": {
              "type": "string"
            }
          },
          "metadata": {},
          "execution_count": 32
        }
      ]
    },
    {
      "cell_type": "code",
      "source": [
        "i = 1\n",
        "for mask_name in os.listdir(Mask_Path):\n",
        "  mask = Mask_Path + mask_name\n",
        "  img = Image_Path + mask_name.split('_Mask')[0] + \".JPG\"\n",
        "  shutil.copy(img, Target_Img_Dir + 'S' + str(i))\n",
        "  shutil.copy(mask, Target_mask_Dir + 'S'+ str(i) )\n",
        "  # print(img)\n",
        "  # print(mask)\n",
        "  i = i+1"
      ],
      "metadata": {
        "id": "meM63y2pDxUp"
      },
      "execution_count": null,
      "outputs": []
    },
    {
      "cell_type": "code",
      "source": [
        "i"
      ],
      "metadata": {
        "colab": {
          "base_uri": "https://localhost:8080/"
        },
        "id": "8K8yOKmjGWLN",
        "outputId": "2e1baeb5-f23f-43cc-e73f-12dc6bfd5270"
      },
      "execution_count": null,
      "outputs": [
        {
          "output_type": "execute_result",
          "data": {
            "text/plain": [
              "62"
            ]
          },
          "metadata": {},
          "execution_count": 35
        }
      ]
    },
    {
      "cell_type": "code",
      "source": [],
      "metadata": {
        "id": "HBUIx-WDJPP1"
      },
      "execution_count": null,
      "outputs": []
    }
  ]
}